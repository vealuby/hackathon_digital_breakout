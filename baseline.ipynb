{
 "cells": [
  {
   "cell_type": "markdown",
   "id": "2b55e8c2-711d-4ab1-ad9f-5c5cac8f81a2",
   "metadata": {},
   "source": [
    "### Базовое решение кейса \"Рекомендательная система видео\" \n",
    "### Кейсодержатель: RUTUBE\n",
    "#### Описание решения: \n",
    "\n",
    "Приведенное базовое решение основано на подсчете совстречаемостей видео в сессии пользователя, или если говорить \"по-бытовому\": посчитаем как часто один товар попадает вместе с другим в одну корзину. На рисунке ниже вы можете видеть, что к пиву очень разумно рекомендовать рыбку, ведь ее частенько берут в дополенение к этому напитку. \n",
    "\n",
    "Однако вполне реальной выглядит ситуация, что пиво встречается чаще в корзине с другим продуктом - с молоком. Почему так происходит? Молоко много с чем часто встречается в корзине просто потому что это очень популярный товар в магазине, в отличие от вяленой рыбки. Но было бы странно получать в рекомендациях к пиву молоко. Поэтому для расчета схожести применяется нормировка на популярность товаров! Далее на основе полученных для каждой пары товаров чисел, рекомендации можно отранжировать и получить в выдаче красоту, а не молоко:)\n",
    "\n",
    "Подробнее читайте тут: https://www.inf.unibz.it/~ricci/ISR/papers/p293-davidson.pdf\n",
    "\n",
    "![Рекомендации к пиву](fish_to_beer.jpg)"
   ]
  },
  {
   "cell_type": "code",
   "execution_count": 1,
   "id": "adbc0fc0",
   "metadata": {},
   "outputs": [
    {
     "name": "stdout",
     "output_type": "stream",
     "text": [
      "loading data ...\n"
     ]
    }
   ],
   "source": [
    "import pandas as pd\n",
    "import os\n",
    "import gc\n",
    "\n",
    "print(\"loading data ...\")\n",
    "hack = pd.read_csv(\"small_player_starts_train.csv\")"
   ]
  },
  {
   "cell_type": "code",
   "execution_count": 3,
   "id": "852a0518",
   "metadata": {},
   "outputs": [
    {
     "data": {
      "text/html": [
       "<div>\n",
       "<style scoped>\n",
       "    .dataframe tbody tr th:only-of-type {\n",
       "        vertical-align: middle;\n",
       "    }\n",
       "\n",
       "    .dataframe tbody tr th {\n",
       "        vertical-align: top;\n",
       "    }\n",
       "\n",
       "    .dataframe thead th {\n",
       "        text-align: right;\n",
       "    }\n",
       "</style>\n",
       "<table border=\"1\" class=\"dataframe\">\n",
       "  <thead>\n",
       "    <tr style=\"text-align: right;\">\n",
       "      <th></th>\n",
       "      <th>date</th>\n",
       "      <th>user_id</th>\n",
       "      <th>item_id</th>\n",
       "      <th>watch_time</th>\n",
       "      <th>is_autorized</th>\n",
       "    </tr>\n",
       "  </thead>\n",
       "  <tbody>\n",
       "    <tr>\n",
       "      <th>0</th>\n",
       "      <td>2023-08-21 15:53:30+03:00</td>\n",
       "      <td>user_7941459</td>\n",
       "      <td>video_1535803</td>\n",
       "      <td>22</td>\n",
       "      <td>0</td>\n",
       "    </tr>\n",
       "    <tr>\n",
       "      <th>1</th>\n",
       "      <td>2023-08-21 16:17:58+03:00</td>\n",
       "      <td>user_17893165</td>\n",
       "      <td>video_796847</td>\n",
       "      <td>374</td>\n",
       "      <td>0</td>\n",
       "    </tr>\n",
       "    <tr>\n",
       "      <th>2</th>\n",
       "      <td>2023-08-21 21:18:12+03:00</td>\n",
       "      <td>user_25219604</td>\n",
       "      <td>video_1905049</td>\n",
       "      <td>11</td>\n",
       "      <td>0</td>\n",
       "    </tr>\n",
       "    <tr>\n",
       "      <th>3</th>\n",
       "      <td>2023-08-21 01:06:10+03:00</td>\n",
       "      <td>user_24477183</td>\n",
       "      <td>video_1156618</td>\n",
       "      <td>1</td>\n",
       "      <td>0</td>\n",
       "    </tr>\n",
       "    <tr>\n",
       "      <th>4</th>\n",
       "      <td>2023-08-21 17:24:32+03:00</td>\n",
       "      <td>user_25483180</td>\n",
       "      <td>video_500499</td>\n",
       "      <td>20</td>\n",
       "      <td>0</td>\n",
       "    </tr>\n",
       "  </tbody>\n",
       "</table>\n",
       "</div>"
      ],
      "text/plain": [
       "                        date        user_id        item_id  watch_time   \n",
       "0  2023-08-21 15:53:30+03:00   user_7941459  video_1535803          22  \\\n",
       "1  2023-08-21 16:17:58+03:00  user_17893165   video_796847         374   \n",
       "2  2023-08-21 21:18:12+03:00  user_25219604  video_1905049          11   \n",
       "3  2023-08-21 01:06:10+03:00  user_24477183  video_1156618           1   \n",
       "4  2023-08-21 17:24:32+03:00  user_25483180   video_500499          20   \n",
       "\n",
       "   is_autorized  \n",
       "0             0  \n",
       "1             0  \n",
       "2             0  \n",
       "3             0  \n",
       "4             0  "
      ]
     },
     "execution_count": 3,
     "metadata": {},
     "output_type": "execute_result"
    }
   ],
   "source": [
    "hack.head(5)"
   ]
  },
  {
   "cell_type": "markdown",
   "id": "7f4e934e-13ca-4f5b-b0f0-03510a3be5c1",
   "metadata": {},
   "source": [
    "#### Для базового решения возьмем данные о просмотрах пользователей"
   ]
  },
  {
   "cell_type": "code",
   "execution_count": 4,
   "id": "fb8d4da2",
   "metadata": {},
   "outputs": [
    {
     "name": "stdout",
     "output_type": "stream",
     "text": [
      "Amount of events:  2439644\n",
      "Unique users:  1313891\n",
      "Unique items:  261288\n",
      "Min date:  2023-08-21 00:00:00+03:00\n",
      "Max date:  2023-08-21 23:59:59+03:00\n"
     ]
    }
   ],
   "source": [
    "print(\"Amount of events: \", len(hack))\n",
    "users = hack.user_id.unique()\n",
    "print(\"Unique users: \", len(users))\n",
    "print(\"Unique items: \", hack.item_id.nunique())\n",
    "print(\"Min date: \", hack.date.min())\n",
    "print(\"Max date: \", hack.date.max())"
   ]
  },
  {
   "cell_type": "code",
   "execution_count": 5,
   "id": "dee4192c",
   "metadata": {},
   "outputs": [],
   "source": [
    "# preprocess date\n",
    "hack['date_short'] = hack.date.apply(lambda l: l.split(\" \")[0])"
   ]
  },
  {
   "cell_type": "markdown",
   "id": "6830777c-fd13-4057-9f33-a7a8f8da2d39",
   "metadata": {},
   "source": [
    "#### Отфильтруем только \"активных\" пользователей, то есть тех, у кого более 1 просмотра за сессию (в нашем случае - за сутки)."
   ]
  },
  {
   "cell_type": "code",
   "execution_count": 6,
   "id": "8bc4706a-8a1c-4ffa-af07-42af1c76f98d",
   "metadata": {},
   "outputs": [
    {
     "name": "stdout",
     "output_type": "stream",
     "text": [
      "CPU times: total: 4.48 s\n",
      "Wall time: 4.49 s\n"
     ]
    }
   ],
   "source": [
    "%%time\n",
    "groupby = hack.groupby([\"user_id\", \"date_short\"]).count()\n",
    "users_active = groupby[groupby['item_id'] >= 2].index.unique()"
   ]
  },
  {
   "cell_type": "code",
   "execution_count": 7,
   "id": "5bd7c1fd-7a87-45a5-9414-9dc399fe58fa",
   "metadata": {},
   "outputs": [],
   "source": [
    "users_active = set(users_active)"
   ]
  },
  {
   "cell_type": "code",
   "execution_count": 8,
   "id": "e3a0cdf5-2f76-47cd-8da2-acfd6e35d2af",
   "metadata": {},
   "outputs": [
    {
     "name": "stderr",
     "output_type": "stream",
     "text": [
      "100%|██████████| 2439644/2439644 [00:28<00:00, 84655.68it/s]\n"
     ]
    }
   ],
   "source": [
    "from tqdm import tqdm \n",
    "tqdm.pandas()\n",
    "hack['active'] = hack.progress_apply(lambda l: True if (l.user_id, l.date_short) in users_active else False, axis=1)\n",
    "hack=hack[hack.active]"
   ]
  },
  {
   "cell_type": "code",
   "execution_count": 9,
   "id": "81500aec-0b28-4fdf-9b2e-1f425c65f24a",
   "metadata": {},
   "outputs": [
    {
     "name": "stdout",
     "output_type": "stream",
     "text": [
      "Финальное число событий 1457176\n"
     ]
    }
   ],
   "source": [
    "print(\"Финальное число событий\", len(hack))"
   ]
  },
  {
   "cell_type": "code",
   "execution_count": 10,
   "id": "6fed1c49-bf7e-4df2-8541-4865557e86c3",
   "metadata": {},
   "outputs": [
    {
     "name": "stdout",
     "output_type": "stream",
     "text": [
      "Финальное число видео 164056\n"
     ]
    }
   ],
   "source": [
    "print(\"Финальное число видео\", hack.item_id.nunique())"
   ]
  },
  {
   "cell_type": "markdown",
   "id": "906eee68-82f5-47f3-b6e6-1861818b0463",
   "metadata": {},
   "source": [
    "#### Построим простую модель рекомендаций, основанную на совместной встречаемости видео в сессиях пользователей - \"Вместе с этим товаром часто покупают..\"\n",
    "\n",
    "В качеcтве сессии будем брать просмотры пользователя за сутки"
   ]
  },
  {
   "cell_type": "code",
   "execution_count": 11,
   "id": "d8af5e13",
   "metadata": {},
   "outputs": [],
   "source": [
    "def calc_pairs(train):\n",
    "    print(\"Get sessions\")\n",
    "    count = train.groupby(['item_id']).size().rename('count_source').reset_index()[\n",
    "        ['item_id', 'count_source']]\n",
    "    dt = train.groupby(['user_id', 'date_short'])['item_id'].agg(list).rename('pair').reset_index()\n",
    "    df = train[['user_id', 'date_short', 'item_id']].merge(dt, on=['user_id', 'date_short'], how='left')\n",
    "    \n",
    "    del dt\n",
    "    gc.collect()\n",
    "\n",
    "    # Explode the rows vs list of articles\n",
    "    print(\"Explode the rows vs list of articles\")\n",
    "    df = df[['item_id', 'pair']].explode(column='pair')\n",
    "    gc.collect()\n",
    "    \n",
    "    print(\"Discard duplicates\")\n",
    "    df = df.loc[df['item_id'] != df['pair']].reset_index(drop=True)\n",
    "    \n",
    "    print(\"Count how many times each pair combination happens\")\n",
    "    df = df.groupby(['item_id', 'pair']).size().rename('count').reset_index()\n",
    "    \n",
    "    print(\"join with frecuency of source item\")\n",
    "    df = df.merge(count, on=['item_id'], how='left')\n",
    "    count = count.rename({'count_source': 'count_target', 'item_id': 'pair'}, axis=1)\n",
    "    df = df.merge(count, on=['pair'], how='left')\n",
    "\n",
    "    df['score'] = df.apply(lambda l: l['count'] / (l['count_source']*l['count_target']), axis=1)\n",
    "    df.sort_values(by=['score'], ascending=False, inplace=True)\n",
    "    gc.collect()\n",
    "    return df"
   ]
  },
  {
   "cell_type": "code",
   "execution_count": 12,
   "id": "385c438b",
   "metadata": {},
   "outputs": [
    {
     "name": "stdout",
     "output_type": "stream",
     "text": [
      "Get sessions\n",
      "Explode the rows vs list of articles\n",
      "Discard duplicates\n",
      "Count how many times each pair combination happens\n",
      "join with frecuency of source item\n",
      "CPU times: total: 2min 51s\n",
      "Wall time: 2min 51s\n"
     ]
    }
   ],
   "source": [
    "%%time\n",
    "rules = calc_pairs(hack[['user_id', 'item_id', 'date_short']])"
   ]
  },
  {
   "cell_type": "code",
   "execution_count": 13,
   "id": "278f33e3",
   "metadata": {
    "scrolled": true
   },
   "outputs": [],
   "source": [
    "rules.to_csv(\"test_random_sample_2w_clear.csv\", index=False)"
   ]
  },
  {
   "cell_type": "code",
   "execution_count": 14,
   "id": "dd09725b",
   "metadata": {},
   "outputs": [],
   "source": [
    "rules = pd.read_csv(\"test_random_sample_2w_clear.csv\")"
   ]
  },
  {
   "cell_type": "code",
   "execution_count": 15,
   "id": "f4a367b7",
   "metadata": {},
   "outputs": [
    {
     "data": {
      "text/plain": [
       "157125"
      ]
     },
     "execution_count": 15,
     "metadata": {},
     "output_type": "execute_result"
    }
   ],
   "source": [
    "rules.item_id.nunique()"
   ]
  },
  {
   "cell_type": "code",
   "execution_count": 16,
   "id": "838ddb1b",
   "metadata": {},
   "outputs": [
    {
     "ename": "ImportError",
     "evalue": "Unable to find a usable engine; tried using: 'pyarrow', 'fastparquet'.\nA suitable version of pyarrow or fastparquet is required for parquet support.\nTrying to import the above resulted in these errors:\n - Missing optional dependency 'pyarrow'. pyarrow is required for parquet support. Use pip or conda to install pyarrow.\n - Missing optional dependency 'fastparquet'. fastparquet is required for parquet support. Use pip or conda to install fastparquet.",
     "output_type": "error",
     "traceback": [
      "\u001b[1;31m---------------------------------------------------------------------------\u001b[0m",
      "\u001b[1;31mImportError\u001b[0m                               Traceback (most recent call last)",
      "Cell \u001b[1;32mIn[16], line 2\u001b[0m\n\u001b[0;32m      1\u001b[0m \u001b[39m# проверим результаты\u001b[39;00m\n\u001b[1;32m----> 2\u001b[0m features \u001b[39m=\u001b[39m pd\u001b[39m.\u001b[39;49mread_parquet(\u001b[39m\"\u001b[39;49m\u001b[39mvideos.parquet\u001b[39;49m\u001b[39m\"\u001b[39;49m)\n",
      "File \u001b[1;32m~\\AppData\\Local\\Packages\\PythonSoftwareFoundation.Python.3.10_qbz5n2kfra8p0\\LocalCache\\local-packages\\Python310\\site-packages\\pandas\\io\\parquet.py:493\u001b[0m, in \u001b[0;36mread_parquet\u001b[1;34m(path, engine, columns, storage_options, use_nullable_dtypes, dtype_backend, **kwargs)\u001b[0m\n\u001b[0;32m    428\u001b[0m \u001b[39m@doc\u001b[39m(storage_options\u001b[39m=\u001b[39m_shared_docs[\u001b[39m\"\u001b[39m\u001b[39mstorage_options\u001b[39m\u001b[39m\"\u001b[39m])\n\u001b[0;32m    429\u001b[0m \u001b[39mdef\u001b[39;00m \u001b[39mread_parquet\u001b[39m(\n\u001b[0;32m    430\u001b[0m     path: FilePath \u001b[39m|\u001b[39m ReadBuffer[\u001b[39mbytes\u001b[39m],\n\u001b[1;32m   (...)\u001b[0m\n\u001b[0;32m    436\u001b[0m     \u001b[39m*\u001b[39m\u001b[39m*\u001b[39mkwargs,\n\u001b[0;32m    437\u001b[0m ) \u001b[39m-\u001b[39m\u001b[39m>\u001b[39m DataFrame:\n\u001b[0;32m    438\u001b[0m \u001b[39m    \u001b[39m\u001b[39m\"\"\"\u001b[39;00m\n\u001b[0;32m    439\u001b[0m \u001b[39m    Load a parquet object from the file path, returning a DataFrame.\u001b[39;00m\n\u001b[0;32m    440\u001b[0m \n\u001b[1;32m   (...)\u001b[0m\n\u001b[0;32m    491\u001b[0m \u001b[39m    DataFrame\u001b[39;00m\n\u001b[0;32m    492\u001b[0m \u001b[39m    \"\"\"\u001b[39;00m\n\u001b[1;32m--> 493\u001b[0m     impl \u001b[39m=\u001b[39m get_engine(engine)\n\u001b[0;32m    495\u001b[0m     \u001b[39mif\u001b[39;00m use_nullable_dtypes \u001b[39mis\u001b[39;00m \u001b[39mnot\u001b[39;00m lib\u001b[39m.\u001b[39mno_default:\n\u001b[0;32m    496\u001b[0m         msg \u001b[39m=\u001b[39m (\n\u001b[0;32m    497\u001b[0m             \u001b[39m\"\u001b[39m\u001b[39mThe argument \u001b[39m\u001b[39m'\u001b[39m\u001b[39muse_nullable_dtypes\u001b[39m\u001b[39m'\u001b[39m\u001b[39m is deprecated and will be removed \u001b[39m\u001b[39m\"\u001b[39m\n\u001b[0;32m    498\u001b[0m             \u001b[39m\"\u001b[39m\u001b[39min a future version.\u001b[39m\u001b[39m\"\u001b[39m\n\u001b[0;32m    499\u001b[0m         )\n",
      "File \u001b[1;32m~\\AppData\\Local\\Packages\\PythonSoftwareFoundation.Python.3.10_qbz5n2kfra8p0\\LocalCache\\local-packages\\Python310\\site-packages\\pandas\\io\\parquet.py:60\u001b[0m, in \u001b[0;36mget_engine\u001b[1;34m(engine)\u001b[0m\n\u001b[0;32m     57\u001b[0m         \u001b[39mexcept\u001b[39;00m \u001b[39mImportError\u001b[39;00m \u001b[39mas\u001b[39;00m err:\n\u001b[0;32m     58\u001b[0m             error_msgs \u001b[39m+\u001b[39m\u001b[39m=\u001b[39m \u001b[39m\"\u001b[39m\u001b[39m\\n\u001b[39;00m\u001b[39m - \u001b[39m\u001b[39m\"\u001b[39m \u001b[39m+\u001b[39m \u001b[39mstr\u001b[39m(err)\n\u001b[1;32m---> 60\u001b[0m     \u001b[39mraise\u001b[39;00m \u001b[39mImportError\u001b[39;00m(\n\u001b[0;32m     61\u001b[0m         \u001b[39m\"\u001b[39m\u001b[39mUnable to find a usable engine; \u001b[39m\u001b[39m\"\u001b[39m\n\u001b[0;32m     62\u001b[0m         \u001b[39m\"\u001b[39m\u001b[39mtried using: \u001b[39m\u001b[39m'\u001b[39m\u001b[39mpyarrow\u001b[39m\u001b[39m'\u001b[39m\u001b[39m, \u001b[39m\u001b[39m'\u001b[39m\u001b[39mfastparquet\u001b[39m\u001b[39m'\u001b[39m\u001b[39m.\u001b[39m\u001b[39m\\n\u001b[39;00m\u001b[39m\"\u001b[39m\n\u001b[0;32m     63\u001b[0m         \u001b[39m\"\u001b[39m\u001b[39mA suitable version of \u001b[39m\u001b[39m\"\u001b[39m\n\u001b[0;32m     64\u001b[0m         \u001b[39m\"\u001b[39m\u001b[39mpyarrow or fastparquet is required for parquet \u001b[39m\u001b[39m\"\u001b[39m\n\u001b[0;32m     65\u001b[0m         \u001b[39m\"\u001b[39m\u001b[39msupport.\u001b[39m\u001b[39m\\n\u001b[39;00m\u001b[39m\"\u001b[39m\n\u001b[0;32m     66\u001b[0m         \u001b[39m\"\u001b[39m\u001b[39mTrying to import the above resulted in these errors:\u001b[39m\u001b[39m\"\u001b[39m\n\u001b[0;32m     67\u001b[0m         \u001b[39mf\u001b[39m\u001b[39m\"\u001b[39m\u001b[39m{\u001b[39;00merror_msgs\u001b[39m}\u001b[39;00m\u001b[39m\"\u001b[39m\n\u001b[0;32m     68\u001b[0m     )\n\u001b[0;32m     70\u001b[0m \u001b[39mif\u001b[39;00m engine \u001b[39m==\u001b[39m \u001b[39m\"\u001b[39m\u001b[39mpyarrow\u001b[39m\u001b[39m\"\u001b[39m:\n\u001b[0;32m     71\u001b[0m     \u001b[39mreturn\u001b[39;00m PyArrowImpl()\n",
      "\u001b[1;31mImportError\u001b[0m: Unable to find a usable engine; tried using: 'pyarrow', 'fastparquet'.\nA suitable version of pyarrow or fastparquet is required for parquet support.\nTrying to import the above resulted in these errors:\n - Missing optional dependency 'pyarrow'. pyarrow is required for parquet support. Use pip or conda to install pyarrow.\n - Missing optional dependency 'fastparquet'. fastparquet is required for parquet support. Use pip or conda to install fastparquet."
     ]
    }
   ],
   "source": [
    "# проверим результаты\n",
    "features = pd.read_parquet(\"videos.parquet\")"
   ]
  },
  {
   "cell_type": "markdown",
   "id": "b37d549b-7f1e-41a6-a71c-f1f47ca52303",
   "metadata": {},
   "source": [
    "#### Посмотрим на рекомендации к смешарикам"
   ]
  },
  {
   "cell_type": "code",
   "execution_count": null,
   "id": "3844c188",
   "metadata": {},
   "outputs": [
    {
     "data": {
      "text/html": [
       "<div>\n",
       "<style scoped>\n",
       "    .dataframe tbody tr th:only-of-type {\n",
       "        vertical-align: middle;\n",
       "    }\n",
       "\n",
       "    .dataframe tbody tr th {\n",
       "        vertical-align: top;\n",
       "    }\n",
       "\n",
       "    .dataframe thead th {\n",
       "        text-align: right;\n",
       "    }\n",
       "</style>\n",
       "<table border=\"1\" class=\"dataframe\">\n",
       "  <thead>\n",
       "    <tr style=\"text-align: right;\">\n",
       "      <th></th>\n",
       "      <th>item_id</th>\n",
       "      <th>video_title</th>\n",
       "      <th>author_title</th>\n",
       "      <th>tv_title</th>\n",
       "      <th>season</th>\n",
       "      <th>video_description</th>\n",
       "      <th>category_title</th>\n",
       "      <th>publicated</th>\n",
       "      <th>duration</th>\n",
       "      <th>channel_sub</th>\n",
       "      <th>tv_sub</th>\n",
       "      <th>ctr.CTR_10days_21_07</th>\n",
       "      <th>ctr.CTR_10days_01_08</th>\n",
       "      <th>ctr.CTR_10days_10_08</th>\n",
       "      <th>ctr.CTR_10days_21_08</th>\n",
       "    </tr>\n",
       "  </thead>\n",
       "  <tbody>\n",
       "    <tr>\n",
       "      <th>2267968</th>\n",
       "      <td>video_2107999</td>\n",
       "      <td>Смешарики 5, 45 серия</td>\n",
       "      <td>Рики</td>\n",
       "      <td>Смешарики 2D 5 сезон</td>\n",
       "      <td>5</td>\n",
       "      <td>None</td>\n",
       "      <td>Детям</td>\n",
       "      <td>2022-12-01 11:49:03+03:00</td>\n",
       "      <td>405000</td>\n",
       "      <td>1638</td>\n",
       "      <td>0</td>\n",
       "      <td>0.117647</td>\n",
       "      <td>0.25</td>\n",
       "      <td>0.076923</td>\n",
       "      <td>0.176471</td>\n",
       "    </tr>\n",
       "  </tbody>\n",
       "</table>\n",
       "</div>"
      ],
      "text/plain": [
       "               item_id            video_title author_title  \\\n",
       "2267968  video_2107999  Смешарики 5, 45 серия         Рики   \n",
       "\n",
       "                     tv_title  season video_description category_title  \\\n",
       "2267968  Смешарики 2D 5 сезон       5              None          Детям   \n",
       "\n",
       "                        publicated  duration  channel_sub  tv_sub  \\\n",
       "2267968  2022-12-01 11:49:03+03:00    405000         1638       0   \n",
       "\n",
       "         ctr.CTR_10days_21_07  ctr.CTR_10days_01_08  ctr.CTR_10days_10_08  \\\n",
       "2267968              0.117647                  0.25              0.076923   \n",
       "\n",
       "         ctr.CTR_10days_21_08  \n",
       "2267968              0.176471  "
      ]
     },
     "execution_count": 18,
     "metadata": {},
     "output_type": "execute_result"
    }
   ],
   "source": [
    "# посмотрим, что порекомендует модель, если передадим ей смешариков\n",
    "\n",
    "features[features.item_id == 'video_2107999']"
   ]
  },
  {
   "cell_type": "code",
   "execution_count": null,
   "id": "f1018dee",
   "metadata": {
    "scrolled": true
   },
   "outputs": [],
   "source": [
    "predictions = rules[rules.item_id=='video_2107999'].pair.to_list()[:10]"
   ]
  },
  {
   "cell_type": "code",
   "execution_count": null,
   "id": "e58abe03",
   "metadata": {
    "scrolled": true
   },
   "outputs": [
    {
     "data": {
      "text/plain": [
       "['Toyota Rav4 установка музыки, процессорная по канальная в штатные места.',\n",
       " 'ПОЧЕМУ ВАЖНО ПЕРВОЕ ВПЕЧАТЛЕНИЕ?',\n",
       " 'прохождение зе Твинс инди хоррор',\n",
       " 'Смешарики 5, 39 серия',\n",
       " 'Смешарики 5, 47 серия',\n",
       " 'ДОМ 2: Драка Сергея Пынзаря и Дарьи Черных',\n",
       " 'Смешарики 5, 48 серия',\n",
       " 'Смешарики 5, 41 серия',\n",
       " 'ФАНФИК: Т/И В ГРУППЕ С БТС И БЛЭКПИНК? ЧАСТЬ 12 #bts  #army #арми #фф #фанфик #blackpink #pov',\n",
       " 'Смешарики 5, 40 серия']"
      ]
     },
     "execution_count": 20,
     "metadata": {},
     "output_type": "execute_result"
    }
   ],
   "source": [
    "prediction_names = [features[features.item_id == pred]['video_title'].values[0] for pred in predictions]\n",
    "prediction_names"
   ]
  },
  {
   "cell_type": "markdown",
   "id": "16e7cdeb-98ed-4373-a870-2c325cc49d12",
   "metadata": {},
   "source": [
    "#### Теперь на рекомендации к спортивному матчу \"Зенит - Урал\""
   ]
  },
  {
   "cell_type": "code",
   "execution_count": null,
   "id": "4d862eee-cd2b-47a5-bd75-3caf616c5299",
   "metadata": {},
   "outputs": [
    {
     "data": {
      "text/html": [
       "<div>\n",
       "<style scoped>\n",
       "    .dataframe tbody tr th:only-of-type {\n",
       "        vertical-align: middle;\n",
       "    }\n",
       "\n",
       "    .dataframe tbody tr th {\n",
       "        vertical-align: top;\n",
       "    }\n",
       "\n",
       "    .dataframe thead th {\n",
       "        text-align: right;\n",
       "    }\n",
       "</style>\n",
       "<table border=\"1\" class=\"dataframe\">\n",
       "  <thead>\n",
       "    <tr style=\"text-align: right;\">\n",
       "      <th></th>\n",
       "      <th>item_id</th>\n",
       "      <th>video_title</th>\n",
       "      <th>author_title</th>\n",
       "      <th>tv_title</th>\n",
       "      <th>season</th>\n",
       "      <th>video_description</th>\n",
       "      <th>category_title</th>\n",
       "      <th>publicated</th>\n",
       "      <th>duration</th>\n",
       "      <th>channel_sub</th>\n",
       "      <th>tv_sub</th>\n",
       "      <th>ctr.CTR_10days_21_07</th>\n",
       "      <th>ctr.CTR_10days_01_08</th>\n",
       "      <th>ctr.CTR_10days_10_08</th>\n",
       "      <th>ctr.CTR_10days_21_08</th>\n",
       "    </tr>\n",
       "  </thead>\n",
       "  <tbody>\n",
       "    <tr>\n",
       "      <th>1293938</th>\n",
       "      <td>video_987926</td>\n",
       "      <td>Зенит - Урал. Обзор матча Мир РПЛ 01.04.2023</td>\n",
       "      <td>МАТЧ!</td>\n",
       "      <td>Обзоры матчей</td>\n",
       "      <td>0</td>\n",
       "      <td>📺🔥 Смотри лучший спортивный контент в одном ме...</td>\n",
       "      <td>Спорт</td>\n",
       "      <td>2023-04-01 21:19:55+03:00</td>\n",
       "      <td>487489</td>\n",
       "      <td>31571</td>\n",
       "      <td>0</td>\n",
       "      <td>0.153846</td>\n",
       "      <td>0.0</td>\n",
       "      <td>0.022727</td>\n",
       "      <td>0.0</td>\n",
       "    </tr>\n",
       "  </tbody>\n",
       "</table>\n",
       "</div>"
      ],
      "text/plain": [
       "              item_id                                   video_title  \\\n",
       "1293938  video_987926  Зенит - Урал. Обзор матча Мир РПЛ 01.04.2023   \n",
       "\n",
       "        author_title       tv_title  season  \\\n",
       "1293938        МАТЧ!  Обзоры матчей       0   \n",
       "\n",
       "                                         video_description category_title  \\\n",
       "1293938  📺🔥 Смотри лучший спортивный контент в одном ме...          Спорт   \n",
       "\n",
       "                        publicated  duration  channel_sub  tv_sub  \\\n",
       "1293938  2023-04-01 21:19:55+03:00    487489        31571       0   \n",
       "\n",
       "         ctr.CTR_10days_21_07  ctr.CTR_10days_01_08  ctr.CTR_10days_10_08  \\\n",
       "1293938              0.153846                   0.0              0.022727   \n",
       "\n",
       "         ctr.CTR_10days_21_08  \n",
       "1293938                   0.0  "
      ]
     },
     "execution_count": 21,
     "metadata": {},
     "output_type": "execute_result"
    }
   ],
   "source": [
    "# посмотрим, что порекомендует модель, если передадим ей футбольный матч\n",
    "\n",
    "features[features.item_id == 'video_987926']"
   ]
  },
  {
   "cell_type": "code",
   "execution_count": null,
   "id": "5665e051-6c3b-4011-93c0-f468c43d7b9d",
   "metadata": {},
   "outputs": [
    {
     "data": {
      "text/plain": [
       "['Зенит - Динамо. Обзор матча Мир РПЛ 06.08.2023']"
      ]
     },
     "execution_count": 22,
     "metadata": {},
     "output_type": "execute_result"
    }
   ],
   "source": [
    "predictions = rules[rules.item_id=='video_987926'].pair.to_list()[:10]\n",
    "prediction_names = [features[features.item_id == pred]['video_title'].values[0] for pred in predictions]\n",
    "prediction_names"
   ]
  },
  {
   "cell_type": "markdown",
   "id": "8cc38fe1",
   "metadata": {},
   "source": [
    "#### Посмотрим, что порекомендует модель, если передадим ей стенд ап"
   ]
  },
  {
   "cell_type": "code",
   "execution_count": null,
   "id": "ffd23d78-65dd-443e-9e40-a2d206b25321",
   "metadata": {},
   "outputs": [
    {
     "data": {
      "text/html": [
       "<div>\n",
       "<style scoped>\n",
       "    .dataframe tbody tr th:only-of-type {\n",
       "        vertical-align: middle;\n",
       "    }\n",
       "\n",
       "    .dataframe tbody tr th {\n",
       "        vertical-align: top;\n",
       "    }\n",
       "\n",
       "    .dataframe thead th {\n",
       "        text-align: right;\n",
       "    }\n",
       "</style>\n",
       "<table border=\"1\" class=\"dataframe\">\n",
       "  <thead>\n",
       "    <tr style=\"text-align: right;\">\n",
       "      <th></th>\n",
       "      <th>item_id</th>\n",
       "      <th>video_title</th>\n",
       "      <th>author_title</th>\n",
       "      <th>tv_title</th>\n",
       "      <th>season</th>\n",
       "      <th>video_description</th>\n",
       "      <th>category_title</th>\n",
       "      <th>publicated</th>\n",
       "      <th>duration</th>\n",
       "      <th>channel_sub</th>\n",
       "      <th>tv_sub</th>\n",
       "      <th>ctr.CTR_10days_21_07</th>\n",
       "      <th>ctr.CTR_10days_01_08</th>\n",
       "      <th>ctr.CTR_10days_10_08</th>\n",
       "      <th>ctr.CTR_10days_21_08</th>\n",
       "    </tr>\n",
       "  </thead>\n",
       "  <tbody>\n",
       "    <tr>\n",
       "      <th>1376255</th>\n",
       "      <td>video_1496562</td>\n",
       "      <td>STAND UP, 9 сезон, 1 выпуск</td>\n",
       "      <td>Телеканал ТНТ</td>\n",
       "      <td>STAND UP</td>\n",
       "      <td>9</td>\n",
       "      <td>Премьера! На ТНТ стартует уже девятый сезон шо...</td>\n",
       "      <td>Телепередачи</td>\n",
       "      <td>2021-09-02 18:55:55+03:00</td>\n",
       "      <td>2707000</td>\n",
       "      <td>75496</td>\n",
       "      <td>0</td>\n",
       "      <td>0.066406</td>\n",
       "      <td>0.143548</td>\n",
       "      <td>0.110927</td>\n",
       "      <td>0.117761</td>\n",
       "    </tr>\n",
       "  </tbody>\n",
       "</table>\n",
       "</div>"
      ],
      "text/plain": [
       "               item_id                  video_title   author_title  tv_title  \\\n",
       "1376255  video_1496562  STAND UP, 9 сезон, 1 выпуск  Телеканал ТНТ  STAND UP   \n",
       "\n",
       "         season                                  video_description  \\\n",
       "1376255       9  Премьера! На ТНТ стартует уже девятый сезон шо...   \n",
       "\n",
       "        category_title                 publicated  duration  channel_sub  \\\n",
       "1376255   Телепередачи  2021-09-02 18:55:55+03:00   2707000        75496   \n",
       "\n",
       "         tv_sub  ctr.CTR_10days_21_07  ctr.CTR_10days_01_08  \\\n",
       "1376255       0              0.066406              0.143548   \n",
       "\n",
       "         ctr.CTR_10days_10_08  ctr.CTR_10days_21_08  \n",
       "1376255              0.110927              0.117761  "
      ]
     },
     "execution_count": 23,
     "metadata": {},
     "output_type": "execute_result"
    }
   ],
   "source": [
    "features[features.item_id == 'video_1496562']"
   ]
  },
  {
   "cell_type": "code",
   "execution_count": null,
   "id": "3e1b002b-23fa-41db-862d-802472eeb494",
   "metadata": {},
   "outputs": [
    {
     "data": {
      "text/plain": [
       "['Страна талантов, 2 сезон, 1 выпуск',\n",
       " 'STAND UP, 9 сезон, 12 выпуск',\n",
       " 'STAND UP, 8 сезон, 13 серия',\n",
       " 'Mary Gu vs Акула (Оксана Почепа) | Битва Поколений | 8 ВЫПУСК',\n",
       " '\"StandUp\": премьерный выпуск нового сезона',\n",
       " 'STAND UP, 3 сезон, 1 выпуск',\n",
       " 'STAND UP, 1 сезон, 2 выпуск (эфир 29.09.2013)',\n",
       " 'STAND UP, 4 сезон, 5 выпуск',\n",
       " 'Stand Up: Новый сезон',\n",
       " 'STAND UP, 4 сезон, 4 выпуск']"
      ]
     },
     "execution_count": 24,
     "metadata": {},
     "output_type": "execute_result"
    }
   ],
   "source": [
    "predictions = rules[rules.item_id=='video_1496562'].pair.to_list()[:10]\n",
    "prediction_names = [features[features.item_id == pred]['video_title'].values[0] for pred in predictions]\n",
    "prediction_names"
   ]
  },
  {
   "cell_type": "markdown",
   "id": "65e2d82d-042d-4bf2-b33f-693813b3a954",
   "metadata": {},
   "source": [
    "#### Cделаем предсказания для тестовых пользователей, будем притягивать рекомендации к последнему видео, которое пользователь смотрел на трейне\n",
    "\n",
    "Для пользователей, которые не попали в трейн, но есть на тесте, порекомендуем самые популярные видео из трейна"
   ]
  },
  {
   "cell_type": "code",
   "execution_count": null,
   "id": "53e27702-f4e7-418d-8b9e-5d3ba283c6ec",
   "metadata": {},
   "outputs": [],
   "source": [
    "most_popular = list(hack.item_id.value_counts()[:10].to_frame().index)"
   ]
  },
  {
   "cell_type": "code",
   "execution_count": null,
   "id": "19c3b1b4-34a8-4d08-8a6d-adba09098fa5",
   "metadata": {},
   "outputs": [
    {
     "data": {
      "text/html": [
       "<div>\n",
       "<style scoped>\n",
       "    .dataframe tbody tr th:only-of-type {\n",
       "        vertical-align: middle;\n",
       "    }\n",
       "\n",
       "    .dataframe tbody tr th {\n",
       "        vertical-align: top;\n",
       "    }\n",
       "\n",
       "    .dataframe thead th {\n",
       "        text-align: right;\n",
       "    }\n",
       "</style>\n",
       "<table border=\"1\" class=\"dataframe\">\n",
       "  <thead>\n",
       "    <tr style=\"text-align: right;\">\n",
       "      <th></th>\n",
       "      <th>item_id</th>\n",
       "      <th>video_title</th>\n",
       "      <th>author_title</th>\n",
       "      <th>tv_title</th>\n",
       "      <th>season</th>\n",
       "      <th>video_description</th>\n",
       "      <th>category_title</th>\n",
       "      <th>publicated</th>\n",
       "      <th>duration</th>\n",
       "      <th>channel_sub</th>\n",
       "      <th>tv_sub</th>\n",
       "      <th>ctr.CTR_10days_21_07</th>\n",
       "      <th>ctr.CTR_10days_01_08</th>\n",
       "      <th>ctr.CTR_10days_10_08</th>\n",
       "      <th>ctr.CTR_10days_21_08</th>\n",
       "    </tr>\n",
       "  </thead>\n",
       "  <tbody>\n",
       "    <tr>\n",
       "      <th>71943</th>\n",
       "      <td>video_2171643</td>\n",
       "      <td>Денис Власенко о школьном буллинге</td>\n",
       "      <td>Вокруг•ТВ</td>\n",
       "      <td>None</td>\n",
       "      <td>0</td>\n",
       "      <td>Денис Власенко дал эксклюзивное интервью «Вокр...</td>\n",
       "      <td>Лайфстайл</td>\n",
       "      <td>2023-08-17 14:36:37+03:00</td>\n",
       "      <td>61280</td>\n",
       "      <td>2146</td>\n",
       "      <td>0</td>\n",
       "      <td>NaN</td>\n",
       "      <td>NaN</td>\n",
       "      <td>NaN</td>\n",
       "      <td>0.000000</td>\n",
       "    </tr>\n",
       "    <tr>\n",
       "      <th>155423</th>\n",
       "      <td>video_68646</td>\n",
       "      <td>Выжить в Дубае, 8 выпуск</td>\n",
       "      <td>Телеканал ТНТ</td>\n",
       "      <td>Выжить в Дубае</td>\n",
       "      <td>1</td>\n",
       "      <td>Премьера! «Выжить в Дубае» – новое масштабное ...</td>\n",
       "      <td>Телепередачи</td>\n",
       "      <td>2023-08-13 21:00:12+03:00</td>\n",
       "      <td>5208840</td>\n",
       "      <td>75496</td>\n",
       "      <td>0</td>\n",
       "      <td>NaN</td>\n",
       "      <td>NaN</td>\n",
       "      <td>NaN</td>\n",
       "      <td>0.411112</td>\n",
       "    </tr>\n",
       "    <tr>\n",
       "      <th>406823</th>\n",
       "      <td>video_1594159</td>\n",
       "      <td>Выжить в Дубае, 7 выпуск</td>\n",
       "      <td>Телеканал ТНТ</td>\n",
       "      <td>Выжить в Дубае</td>\n",
       "      <td>1</td>\n",
       "      <td>Премьера! «Выжить в Дубае» – новое масштабное ...</td>\n",
       "      <td>Телепередачи</td>\n",
       "      <td>2023-08-06 21:00:18+03:00</td>\n",
       "      <td>5930640</td>\n",
       "      <td>75496</td>\n",
       "      <td>0</td>\n",
       "      <td>NaN</td>\n",
       "      <td>NaN</td>\n",
       "      <td>0.448765</td>\n",
       "      <td>0.319222</td>\n",
       "    </tr>\n",
       "    <tr>\n",
       "      <th>956478</th>\n",
       "      <td>video_283933</td>\n",
       "      <td>Выжить в Дубае, 9 выпуск</td>\n",
       "      <td>Телеканал ТНТ</td>\n",
       "      <td>Выжить в Дубае</td>\n",
       "      <td>1</td>\n",
       "      <td>Премьера! «Выжить в Дубае» – новое масштабное ...</td>\n",
       "      <td>Телепередачи</td>\n",
       "      <td>2023-08-20 21:00:23+03:00</td>\n",
       "      <td>5616280</td>\n",
       "      <td>75496</td>\n",
       "      <td>0</td>\n",
       "      <td>NaN</td>\n",
       "      <td>NaN</td>\n",
       "      <td>NaN</td>\n",
       "      <td>0.572971</td>\n",
       "    </tr>\n",
       "    <tr>\n",
       "      <th>1123138</th>\n",
       "      <td>video_830290</td>\n",
       "      <td>На разок. Мужское / Женское. Выпуск от 18.08.2023</td>\n",
       "      <td>Первый канал</td>\n",
       "      <td>Мужское / Женское</td>\n",
       "      <td>0</td>\n",
       "      <td>Ангелина Перминова выросла в детском доме и се...</td>\n",
       "      <td>Телепередачи</td>\n",
       "      <td>2023-08-18 17:59:14+03:00</td>\n",
       "      <td>2437056</td>\n",
       "      <td>45848</td>\n",
       "      <td>0</td>\n",
       "      <td>NaN</td>\n",
       "      <td>NaN</td>\n",
       "      <td>NaN</td>\n",
       "      <td>0.155233</td>\n",
       "    </tr>\n",
       "  </tbody>\n",
       "</table>\n",
       "</div>"
      ],
      "text/plain": [
       "               item_id                                        video_title  \\\n",
       "71943    video_2171643                 Денис Власенко о школьном буллинге   \n",
       "155423     video_68646                           Выжить в Дубае, 8 выпуск   \n",
       "406823   video_1594159                           Выжить в Дубае, 7 выпуск   \n",
       "956478    video_283933                           Выжить в Дубае, 9 выпуск   \n",
       "1123138   video_830290  На разок. Мужское / Женское. Выпуск от 18.08.2023   \n",
       "\n",
       "          author_title           tv_title  season  \\\n",
       "71943        Вокруг•ТВ               None       0   \n",
       "155423   Телеканал ТНТ     Выжить в Дубае       1   \n",
       "406823   Телеканал ТНТ     Выжить в Дубае       1   \n",
       "956478   Телеканал ТНТ     Выжить в Дубае       1   \n",
       "1123138   Первый канал  Мужское / Женское       0   \n",
       "\n",
       "                                         video_description category_title  \\\n",
       "71943    Денис Власенко дал эксклюзивное интервью «Вокр...      Лайфстайл   \n",
       "155423   Премьера! «Выжить в Дубае» – новое масштабное ...   Телепередачи   \n",
       "406823   Премьера! «Выжить в Дубае» – новое масштабное ...   Телепередачи   \n",
       "956478   Премьера! «Выжить в Дубае» – новое масштабное ...   Телепередачи   \n",
       "1123138  Ангелина Перминова выросла в детском доме и се...   Телепередачи   \n",
       "\n",
       "                        publicated  duration  channel_sub  tv_sub  \\\n",
       "71943    2023-08-17 14:36:37+03:00     61280         2146       0   \n",
       "155423   2023-08-13 21:00:12+03:00   5208840        75496       0   \n",
       "406823   2023-08-06 21:00:18+03:00   5930640        75496       0   \n",
       "956478   2023-08-20 21:00:23+03:00   5616280        75496       0   \n",
       "1123138  2023-08-18 17:59:14+03:00   2437056        45848       0   \n",
       "\n",
       "         ctr.CTR_10days_21_07  ctr.CTR_10days_01_08  ctr.CTR_10days_10_08  \\\n",
       "71943                     NaN                   NaN                   NaN   \n",
       "155423                    NaN                   NaN                   NaN   \n",
       "406823                    NaN                   NaN              0.448765   \n",
       "956478                    NaN                   NaN                   NaN   \n",
       "1123138                   NaN                   NaN                   NaN   \n",
       "\n",
       "         ctr.CTR_10days_21_08  \n",
       "71943                0.000000  \n",
       "155423               0.411112  \n",
       "406823               0.319222  \n",
       "956478               0.572971  \n",
       "1123138              0.155233  "
      ]
     },
     "execution_count": 26,
     "metadata": {},
     "output_type": "execute_result"
    }
   ],
   "source": [
    "features[features.item_id.isin(most_popular)][:5]"
   ]
  },
  {
   "cell_type": "markdown",
   "id": "a1c35a6b-4e90-492e-b8c4-4301f1236674",
   "metadata": {},
   "source": [
    "#### Загружаем пример submission'a"
   ]
  },
  {
   "cell_type": "code",
   "execution_count": null,
   "id": "bad8ca34",
   "metadata": {},
   "outputs": [],
   "source": [
    "submission = pd.read_csv(\"sample_submission.csv\")"
   ]
  },
  {
   "cell_type": "code",
   "execution_count": null,
   "id": "6c53206e",
   "metadata": {},
   "outputs": [
    {
     "data": {
      "text/html": [
       "<div>\n",
       "<style scoped>\n",
       "    .dataframe tbody tr th:only-of-type {\n",
       "        vertical-align: middle;\n",
       "    }\n",
       "\n",
       "    .dataframe tbody tr th {\n",
       "        vertical-align: top;\n",
       "    }\n",
       "\n",
       "    .dataframe thead th {\n",
       "        text-align: right;\n",
       "    }\n",
       "</style>\n",
       "<table border=\"1\" class=\"dataframe\">\n",
       "  <thead>\n",
       "    <tr style=\"text-align: right;\">\n",
       "      <th></th>\n",
       "      <th>user_id</th>\n",
       "      <th>recs</th>\n",
       "    </tr>\n",
       "  </thead>\n",
       "  <tbody>\n",
       "    <tr>\n",
       "      <th>0</th>\n",
       "      <td>user_26511551</td>\n",
       "      <td>['video_0', 'video_0', 'video_0', 'video_0', '...</td>\n",
       "    </tr>\n",
       "    <tr>\n",
       "      <th>1</th>\n",
       "      <td>user_29194819</td>\n",
       "      <td>['video_0', 'video_0', 'video_0', 'video_0', '...</td>\n",
       "    </tr>\n",
       "    <tr>\n",
       "      <th>2</th>\n",
       "      <td>user_29734049</td>\n",
       "      <td>['video_0', 'video_0', 'video_0', 'video_0', '...</td>\n",
       "    </tr>\n",
       "    <tr>\n",
       "      <th>3</th>\n",
       "      <td>user_955460</td>\n",
       "      <td>['video_0', 'video_0', 'video_0', 'video_0', '...</td>\n",
       "    </tr>\n",
       "    <tr>\n",
       "      <th>4</th>\n",
       "      <td>user_7065521</td>\n",
       "      <td>['video_0', 'video_0', 'video_0', 'video_0', '...</td>\n",
       "    </tr>\n",
       "    <tr>\n",
       "      <th>...</th>\n",
       "      <td>...</td>\n",
       "      <td>...</td>\n",
       "    </tr>\n",
       "    <tr>\n",
       "      <th>97235</th>\n",
       "      <td>user_29281681</td>\n",
       "      <td>['video_0', 'video_0', 'video_0', 'video_0', '...</td>\n",
       "    </tr>\n",
       "    <tr>\n",
       "      <th>97236</th>\n",
       "      <td>user_3912848</td>\n",
       "      <td>['video_0', 'video_0', 'video_0', 'video_0', '...</td>\n",
       "    </tr>\n",
       "    <tr>\n",
       "      <th>97237</th>\n",
       "      <td>user_28389099</td>\n",
       "      <td>['video_0', 'video_0', 'video_0', 'video_0', '...</td>\n",
       "    </tr>\n",
       "    <tr>\n",
       "      <th>97238</th>\n",
       "      <td>user_18951296</td>\n",
       "      <td>['video_0', 'video_0', 'video_0', 'video_0', '...</td>\n",
       "    </tr>\n",
       "    <tr>\n",
       "      <th>97239</th>\n",
       "      <td>user_16411220</td>\n",
       "      <td>['video_0', 'video_0', 'video_0', 'video_0', '...</td>\n",
       "    </tr>\n",
       "  </tbody>\n",
       "</table>\n",
       "<p>97240 rows × 2 columns</p>\n",
       "</div>"
      ],
      "text/plain": [
       "             user_id                                               recs\n",
       "0      user_26511551  ['video_0', 'video_0', 'video_0', 'video_0', '...\n",
       "1      user_29194819  ['video_0', 'video_0', 'video_0', 'video_0', '...\n",
       "2      user_29734049  ['video_0', 'video_0', 'video_0', 'video_0', '...\n",
       "3        user_955460  ['video_0', 'video_0', 'video_0', 'video_0', '...\n",
       "4       user_7065521  ['video_0', 'video_0', 'video_0', 'video_0', '...\n",
       "...              ...                                                ...\n",
       "97235  user_29281681  ['video_0', 'video_0', 'video_0', 'video_0', '...\n",
       "97236   user_3912848  ['video_0', 'video_0', 'video_0', 'video_0', '...\n",
       "97237  user_28389099  ['video_0', 'video_0', 'video_0', 'video_0', '...\n",
       "97238  user_18951296  ['video_0', 'video_0', 'video_0', 'video_0', '...\n",
       "97239  user_16411220  ['video_0', 'video_0', 'video_0', 'video_0', '...\n",
       "\n",
       "[97240 rows x 2 columns]"
      ]
     },
     "execution_count": 28,
     "metadata": {},
     "output_type": "execute_result"
    }
   ],
   "source": [
    "submission"
   ]
  },
  {
   "cell_type": "markdown",
   "id": "ac80f9c4-b41b-4c6b-8e1b-baccde75f7cd",
   "metadata": {},
   "source": [
    "#### Находим последнее просмотренное видео пользователями из теста (которые также есть и в трейне)"
   ]
  },
  {
   "cell_type": "code",
   "execution_count": null,
   "id": "ef358278",
   "metadata": {},
   "outputs": [],
   "source": [
    "hack = hack[hack.user_id.isin(submission['user_id'].unique())].sort_values(by=['date'])"
   ]
  },
  {
   "cell_type": "code",
   "execution_count": null,
   "id": "b9cc74ef",
   "metadata": {},
   "outputs": [
    {
     "name": "stdout",
     "output_type": "stream",
     "text": [
      "CPU times: user 218 ms, sys: 0 ns, total: 218 ms\n",
      "Wall time: 215 ms\n"
     ]
    }
   ],
   "source": [
    "%%time\n",
    "last_watched_videos = (\n",
    "    hack[['user_id', 'item_id']]\n",
    "    .groupby(['user_id'], as_index=False)\n",
    "    .agg('last')\n",
    ")"
   ]
  },
  {
   "cell_type": "code",
   "execution_count": null,
   "id": "a2689830",
   "metadata": {},
   "outputs": [],
   "source": [
    "last_watched_videos = last_watched_videos.set_index('user_id').to_dict()['item_id']"
   ]
  },
  {
   "cell_type": "code",
   "execution_count": null,
   "id": "a3b6882d",
   "metadata": {},
   "outputs": [],
   "source": [
    "items_in_train = {source: list(group.index) for source, group in rules.groupby(['item_id'])}"
   ]
  },
  {
   "cell_type": "code",
   "execution_count": null,
   "id": "b9f7dc69",
   "metadata": {},
   "outputs": [],
   "source": [
    "from tqdm import tqdm \n",
    "tqdm.pandas()\n",
    "\n",
    "\n",
    "def get_recs_for_users(rules, sample_submission, last_watched_videos, items_in_train, num_candidates: int=10):\n",
    "    \n",
    "    for i, row in tqdm(sample_submission.iterrows()):\n",
    "        if row.user_id in last_watched_videos:\n",
    "            video = last_watched_videos[row.user_id]\n",
    "            video_ids = items_in_train[video] if video in items_in_train else ''\n",
    "            if len(video_ids)>0:\n",
    "                sample_submission.loc[i, 'recs'] = rules.iloc[video_ids].item_id.to_list()[:num_candidates]\n",
    "            else:\n",
    "                sample_submission.loc[i, 'recs'] = most_popular\n",
    "        else:\n",
    "            sample_submission.loc[i, 'recs'] = most_popular\n",
    "    return sample_submission"
   ]
  },
  {
   "cell_type": "code",
   "execution_count": null,
   "id": "13d87de6",
   "metadata": {},
   "outputs": [
    {
     "name": "stderr",
     "output_type": "stream",
     "text": [
      "97240it [00:30, 3143.90it/s]\n"
     ]
    }
   ],
   "source": [
    "# получаем предсказания\n",
    "submission = get_recs_for_users(rules, submission, last_watched_videos, items_in_train)"
   ]
  },
  {
   "cell_type": "code",
   "execution_count": null,
   "id": "a78d9a14",
   "metadata": {
    "scrolled": true
   },
   "outputs": [
    {
     "data": {
      "text/html": [
       "<div>\n",
       "<style scoped>\n",
       "    .dataframe tbody tr th:only-of-type {\n",
       "        vertical-align: middle;\n",
       "    }\n",
       "\n",
       "    .dataframe tbody tr th {\n",
       "        vertical-align: top;\n",
       "    }\n",
       "\n",
       "    .dataframe thead th {\n",
       "        text-align: right;\n",
       "    }\n",
       "</style>\n",
       "<table border=\"1\" class=\"dataframe\">\n",
       "  <thead>\n",
       "    <tr style=\"text-align: right;\">\n",
       "      <th></th>\n",
       "      <th>user_id</th>\n",
       "      <th>recs</th>\n",
       "    </tr>\n",
       "  </thead>\n",
       "  <tbody>\n",
       "    <tr>\n",
       "      <th>0</th>\n",
       "      <td>user_26511551</td>\n",
       "      <td>[video_1580070]</td>\n",
       "    </tr>\n",
       "    <tr>\n",
       "      <th>1</th>\n",
       "      <td>user_29194819</td>\n",
       "      <td>[video_283933, video_68646, video_1508623, vid...</td>\n",
       "    </tr>\n",
       "    <tr>\n",
       "      <th>2</th>\n",
       "      <td>user_29734049</td>\n",
       "      <td>[video_283933, video_68646, video_1508623, vid...</td>\n",
       "    </tr>\n",
       "    <tr>\n",
       "      <th>3</th>\n",
       "      <td>user_955460</td>\n",
       "      <td>[video_283933, video_68646, video_1508623, vid...</td>\n",
       "    </tr>\n",
       "    <tr>\n",
       "      <th>4</th>\n",
       "      <td>user_7065521</td>\n",
       "      <td>[video_5763, video_5763, video_5763, video_576...</td>\n",
       "    </tr>\n",
       "    <tr>\n",
       "      <th>...</th>\n",
       "      <td>...</td>\n",
       "      <td>...</td>\n",
       "    </tr>\n",
       "    <tr>\n",
       "      <th>97235</th>\n",
       "      <td>user_29281681</td>\n",
       "      <td>[video_283933, video_68646, video_1508623, vid...</td>\n",
       "    </tr>\n",
       "    <tr>\n",
       "      <th>97236</th>\n",
       "      <td>user_3912848</td>\n",
       "      <td>[video_1200669, video_1200669, video_1200669, ...</td>\n",
       "    </tr>\n",
       "    <tr>\n",
       "      <th>97237</th>\n",
       "      <td>user_28389099</td>\n",
       "      <td>[video_144691, video_144691, video_144691, vid...</td>\n",
       "    </tr>\n",
       "    <tr>\n",
       "      <th>97238</th>\n",
       "      <td>user_18951296</td>\n",
       "      <td>[video_283933, video_68646, video_1508623, vid...</td>\n",
       "    </tr>\n",
       "    <tr>\n",
       "      <th>97239</th>\n",
       "      <td>user_16411220</td>\n",
       "      <td>[video_648740, video_648740, video_648740, vid...</td>\n",
       "    </tr>\n",
       "  </tbody>\n",
       "</table>\n",
       "<p>97240 rows × 2 columns</p>\n",
       "</div>"
      ],
      "text/plain": [
       "             user_id                                               recs\n",
       "0      user_26511551                                    [video_1580070]\n",
       "1      user_29194819  [video_283933, video_68646, video_1508623, vid...\n",
       "2      user_29734049  [video_283933, video_68646, video_1508623, vid...\n",
       "3        user_955460  [video_283933, video_68646, video_1508623, vid...\n",
       "4       user_7065521  [video_5763, video_5763, video_5763, video_576...\n",
       "...              ...                                                ...\n",
       "97235  user_29281681  [video_283933, video_68646, video_1508623, vid...\n",
       "97236   user_3912848  [video_1200669, video_1200669, video_1200669, ...\n",
       "97237  user_28389099  [video_144691, video_144691, video_144691, vid...\n",
       "97238  user_18951296  [video_283933, video_68646, video_1508623, vid...\n",
       "97239  user_16411220  [video_648740, video_648740, video_648740, vid...\n",
       "\n",
       "[97240 rows x 2 columns]"
      ]
     },
     "execution_count": 35,
     "metadata": {},
     "output_type": "execute_result"
    }
   ],
   "source": [
    "submission"
   ]
  },
  {
   "cell_type": "code",
   "execution_count": null,
   "id": "9d6e8499",
   "metadata": {},
   "outputs": [],
   "source": [
    "submission.to_csv(\"submission.csv\", index=False)"
   ]
  },
  {
   "cell_type": "code",
   "execution_count": null,
   "id": "61a1befc",
   "metadata": {},
   "outputs": [],
   "source": []
  },
  {
   "cell_type": "code",
   "execution_count": null,
   "id": "73e69b5b",
   "metadata": {},
   "outputs": [],
   "source": []
  }
 ],
 "metadata": {
  "kernelspec": {
   "display_name": "Python 3",
   "language": "python",
   "name": "python3"
  },
  "language_info": {
   "codemirror_mode": {
    "name": "ipython",
    "version": 3
   },
   "file_extension": ".py",
   "mimetype": "text/x-python",
   "name": "python",
   "nbconvert_exporter": "python",
   "pygments_lexer": "ipython3",
   "version": "3.10.11"
  }
 },
 "nbformat": 4,
 "nbformat_minor": 5
}
